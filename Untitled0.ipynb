{
 "metadata": {
  "name": "",
  "signature": "sha256:e195874c4aa8dbeb5708fb8fc3b4cf213597c87e5d12adb1b2d55a8c64343688"
 },
 "nbformat": 3,
 "nbformat_minor": 0,
 "worksheets": [
  {
   "cells": [
    {
     "cell_type": "code",
     "collapsed": false,
     "input": [
      "import matplotlib.pyplot as plt\n",
      "import seaborn as sns\n",
      "import slots\n",
      "\n",
      "# Test multiple strategies for the same bandit probabilities\n",
      "probs = [0.4, 0.9, 0.8]\n",
      "\n",
      "strategies = [{'strategy': 'eps_greedy', 'regret': [],\n",
      "               'label': '$\\epsilon$-greedy ($\\epsilon$=0.1)'},\n",
      "              {'strategy': 'softmax', 'regret': [],\n",
      "               'label': 'Softmax ($T$=0.1)'},\n",
      "              {'strategy': 'ucb', 'regret': [],\n",
      "               'label': 'UCB1'},\n",
      "              {'strategy': 'bayesian', 'regret': [],\n",
      "               'label': 'Bayesian bandit'},\n",
      "              ]\n",
      "\n",
      "for s in strategies:\n",
      " s['mab'] = slots.MAB(probs=probs, live=False)\n",
      "\n",
      "# Run trials and calculate the regret after each trial\n",
      "for t in range(10000):\n",
      "    for s in strategies:\n",
      "        s['mab']._run(s['strategy'])\n",
      "        s['regret'].append(s['mab'].regret())\n",
      "\n",
      "# Pretty plotting\n",
      "sns.set_style('whitegrid')\n",
      "sns.set_context('poster')\n",
      "\n",
      "plt.figure(figsize=(15,4))\n",
      "\n",
      "for s in strategies:\n",
      "    plt.plot(s['regret'], label=s['label'])\n",
      "\n",
      "plt.legend()\n",
      "plt.xlabel('Trials')\n",
      "plt.ylabel('Regret')\n",
      "plt.title('Multi-armed bandit strategy performance (slots)')\n",
      "plt.ylim(0,0.2);"
     ],
     "language": "python",
     "metadata": {},
     "outputs": [
      {
       "ename": "ImportError",
       "evalue": "No module named 'seaborn'",
       "output_type": "pyerr",
       "traceback": [
        "\u001b[0;31m---------------------------------------------------------------------------\u001b[0m\n\u001b[0;31mImportError\u001b[0m                               Traceback (most recent call last)",
        "\u001b[0;32m<ipython-input-4-2251fcb5d409>\u001b[0m in \u001b[0;36m<module>\u001b[0;34m()\u001b[0m\n\u001b[1;32m      1\u001b[0m \u001b[0;32mimport\u001b[0m \u001b[0mmatplotlib\u001b[0m\u001b[0;34m.\u001b[0m\u001b[0mpyplot\u001b[0m \u001b[0;32mas\u001b[0m \u001b[0mplt\u001b[0m\u001b[0;34m\u001b[0m\u001b[0m\n\u001b[0;32m----> 2\u001b[0;31m \u001b[0;32mimport\u001b[0m \u001b[0mseaborn\u001b[0m \u001b[0;32mas\u001b[0m \u001b[0msns\u001b[0m\u001b[0;34m\u001b[0m\u001b[0m\n\u001b[0m\u001b[1;32m      3\u001b[0m \u001b[0;32mimport\u001b[0m \u001b[0mslots\u001b[0m\u001b[0;34m\u001b[0m\u001b[0m\n\u001b[1;32m      4\u001b[0m \u001b[0;34m\u001b[0m\u001b[0m\n\u001b[1;32m      5\u001b[0m \u001b[0;31m# Test multiple strategies for the same bandit probabilities\u001b[0m\u001b[0;34m\u001b[0m\u001b[0;34m\u001b[0m\u001b[0m\n",
        "\u001b[0;31mImportError\u001b[0m: No module named 'seaborn'"
       ]
      }
     ],
     "prompt_number": 4
    },
    {
     "cell_type": "code",
     "collapsed": false,
     "input": [
      "\n"
     ],
     "language": "python",
     "metadata": {},
     "outputs": [
      {
       "ename": "SyntaxError",
       "evalue": "Missing parentheses in call to 'print' (<ipython-input-2-31b1c8beee72>, line 1)",
       "output_type": "pyerr",
       "traceback": [
        "\u001b[0;36m  File \u001b[0;32m\"<ipython-input-2-31b1c8beee72>\"\u001b[0;36m, line \u001b[0;32m1\u001b[0m\n\u001b[0;31m    print sas\u001b[0m\n\u001b[0m            ^\u001b[0m\n\u001b[0;31mSyntaxError\u001b[0m\u001b[0;31m:\u001b[0m Missing parentheses in call to 'print'\n"
       ]
      }
     ],
     "prompt_number": 2
    },
    {
     "cell_type": "code",
     "collapsed": false,
     "input": [],
     "language": "python",
     "metadata": {},
     "outputs": []
    }
   ],
   "metadata": {}
  }
 ]
}